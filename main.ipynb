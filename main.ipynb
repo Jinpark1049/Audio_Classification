{
 "cells": [
  {
   "cell_type": "code",
   "execution_count": 1,
   "id": "2b05a0da",
   "metadata": {},
   "outputs": [
    {
     "name": "stdout",
     "output_type": "stream",
     "text": [
      "GPU number: 0\n"
     ]
    }
   ],
   "source": [
    "import os\n",
    "import numpy as np\n",
    "import pandas as pd\n",
    "import torch\n",
    "import random\n",
    "import time\n",
    "\n",
    "gpu_id = '0, 1, 2' \n",
    "\n",
    "os.environ['CUDA_LAUNCH_BLOCKING'] = \"1\"\n",
    "os.environ[\"CUDA_VISIBLE_DEVICES\"] = gpu_id\n",
    "\n",
    "def set_seed(seed: int = 42):\n",
    "    random.seed(seed)\n",
    "    np.random.seed(seed)\n",
    "    torch.manual_seed(seed)\n",
    "    torch.cuda.manual_seed(seed)  # type: ignore\n",
    "    torch.cuda.manual_seed_all(seed) # if use multi-GPU\n",
    "\n",
    "    torch.backends.cudnn.deterministic = True  # type: ignore\n",
    "    torch.backends.cudnn.benchmark = True  # type: ignore\n",
    "\n",
    "def get_device() -> torch.device:\n",
    "    return torch.device(\"cuda\" if torch.cuda.is_available() else \"cpu\")\n",
    "\n",
    "device = get_device()\n",
    "set_seed(42)\n",
    "\n",
    "print('GPU number: {}'.format(torch.cuda.device_count()))\n"
   ]
  },
  {
   "cell_type": "code",
   "execution_count": 2,
   "id": "2c5c111b",
   "metadata": {},
   "outputs": [],
   "source": [
    "import random\n",
    "import torch\n",
    "import torchaudio\n",
    "from torchaudio import transforms\n",
    "from torchvision import transforms as ts\n",
    "\n",
    "import numpy as np\n",
    "import pandas as pd\n",
    "import os\n",
    "from sklearn.model_selection import StratifiedKFold\n",
    "\n",
    "\n",
    "class AudioUtil():\n",
    "  # Load an audio file. Return the signal as a tensor and the sample rate\n",
    "  # deafult setting for sr = 16000\n",
    "  @staticmethod\n",
    "  def open(audio_file):\n",
    "    sig, sr = torchaudio.load(audio_file)\n",
    "    return (sig, sr)\n",
    "\n",
    "  # ----------------------------\n",
    "  # Convert the given audio to the desired number of channels\n",
    "  # stereo = 2, new_channel = 2\n",
    "  # mono = 1, new_channel = 1\n",
    "  @staticmethod\n",
    "  def rechannel(aud, new_channel):\n",
    "    sig, sr = aud\n",
    "\n",
    "    if (sig.shape[0] == new_channel):\n",
    "      # Nothing to do\n",
    "      return aud\n",
    "\n",
    "    if (new_channel == 1):\n",
    "      # Convert from stereo to mono by selecting only the first channel\n",
    "      resig = sig[:1, :]\n",
    "    elif (new_channel == 2):\n",
    "      resig = torch.cat([sig, sig])\n",
    "    else:\n",
    "      # Convert from mono to stereo by duplicating the first channel\n",
    "      resig = torch.cat([sig, sig, sig])\n",
    "    \n",
    "    return (resig, sr)\n",
    "  \n",
    "  # Since Resample applies to a single channel, we resample one channel at a time\n",
    "  # need to know what is the optimal value for human voice\n",
    "  # ----------------------------\n",
    "  @staticmethod\n",
    "  def resample(aud, newsr):\n",
    "    sig, sr = aud\n",
    "\n",
    "    if (sr == newsr):\n",
    "      # Nothing to do\n",
    "      return aud\n",
    "\n",
    "    num_channels = sig.shape[0]\n",
    "    # Resample first channel\n",
    "    resig = torchaudio.transforms.Resample(sr, newsr)(sig[:1,:])\n",
    "    if (num_channels > 1):\n",
    "      # Resample the second channel and merge both channels\n",
    "      retwo = torchaudio.transforms.Resample(sr, newsr)(sig[1:,:])\n",
    "      resig = torch.cat([resig, retwo])\n",
    "\n",
    "    return ((resig, newsr))\n",
    "  # ----------------------------\n",
    "  # Pad (or truncate) the signal to a fixed length 'max_ms' in milliseconds\n",
    "  # This is for regular procedure.\n",
    "  # not preferred since no silence included from competition audio files\n",
    "  # ----------------------------\n",
    "  @staticmethod\n",
    "  def pad_trunc(aud, max_ms):\n",
    "    sig, sr = aud\n",
    "    num_rows, sig_len = sig.shape\n",
    "    max_len = sr//1000 * max_ms\n",
    "    if (sig_len > max_len):\n",
    "      direction = random.randint(0,1)\n",
    "      # Truncate the signal to the given length, just cut to the direction.\n",
    "      if direction == 0: # left\n",
    "        sig = sig[:,:max_len]\n",
    "      else: # right\n",
    "        sig = sig[:,sig_len-max_len:]  \n",
    "    elif (sig_len < max_len):\n",
    "      # Length of padding to add at the beginning and end of the signal\n",
    "      pad_begin_len = random.randint(0, max_len - sig_len)\n",
    "      pad_end_len = max_len - sig_len - pad_begin_len\n",
    "      \n",
    "      # Pad with 0s\n",
    "      pad_begin = torch.zeros((num_rows, pad_begin_len))\n",
    "      pad_end = torch.zeros((num_rows, pad_end_len))\n",
    "      \n",
    "      sig = torch.cat((pad_begin, sig, pad_end), 1)\n",
    "      \n",
    "    return (sig, sr)\n",
    "  # ----------------------------\n",
    "  # This applies for our purpose, time shift do not needed for this.\n",
    "  # ----------------------------\n",
    "  @staticmethod\n",
    "  # bit of problematic sigsigsigsig\n",
    "  def time_sample(aud, max_ms):\n",
    "    sig, sr = aud\n",
    "    max_len = sr//1000 * max_ms\n",
    "    if sig[0].shape[0] > max_len:\n",
    "      start = np.random.randint(0,sig[0].shape[0]-max_len)\n",
    "      sam_sig = sig[:,start:start+max_len-1]\n",
    "      return (sam_sig, sr)\n",
    "    else:\n",
    "      con_sig = torch.cat((sig,sig), axis=1)\n",
    "      while con_sig[0].shape[0] < max_len:\n",
    "        con_sig = torch.cat((con_sig,sig), axis=1)\n",
    "      start = np.random.randint(0,con_sig[0].shape[0]-max_len)\n",
    "      con_sig = con_sig[:, start:start+max_len]\n",
    "      return (con_sig, sr)   \n",
    "  ###############################################################################\n",
    "  # Raw Augmentation\n",
    "  ###############################################################################\n",
    "  # ----------------------------\n",
    "  # noise, flip, others are implemented in torchaudio transformations.   \n",
    "  # noise_factor < 0.005 is preferred -> heuristic test\n",
    "  # ----------------------------\n",
    "  @staticmethod\n",
    "  def noise(aud, noise_factor):\n",
    "    sig, sr = aud\n",
    "    # sampling from gaussian distribution\n",
    "    noise = np.random.randn((sig.shape[1]))\n",
    "    num_channels = sig.shape[0]\n",
    "    noise_data = sig[0] + noise_factor * noise\n",
    "    if (num_channels > 1):\n",
    "        noise_data_two =sig[1] + noise_factor*noise\n",
    "        noise_data_r = torch.stack([noise_data, noise_data_two])\n",
    "    else:\n",
    "        noise_data_r = noise_data.reshape(1,-1)  \n",
    "    \n",
    "    return (noise_data_r, sr)\n",
    "  \n",
    "  @staticmethod\n",
    "  def flip(aud):\n",
    "    # if we consider it as speaking out different languages, this might be helpful.\n",
    "    sig, sr = aud\n",
    "    flip_sig = np.flip(sig.numpy()).copy()\n",
    "    \n",
    "    return torch.from_numpy(flip_sig), sr\n",
    "\n",
    "  # Spectrogram\n",
    "  # ----------------------------\n",
    "  # Generate a Spectrogram , mel_spectrogram + dB\n",
    "  # ----------------------------\n",
    "  @staticmethod\n",
    "  def spectro_gram(aud, n_mels=128, n_fft=1024, win_len = None, hop_len=512):\n",
    "    sig,sr = aud\n",
    "    top_db = 80\n",
    "\n",
    "    # spec has shape [channel, n_mels, time], where channel is mono, stereo etc\n",
    "    spec = transforms.MelSpectrogram(sr, n_fft=n_fft, win_length = win_len, hop_length=hop_len, center = True, onesided= True, n_mels=n_mels, mel_scale = 'htk')(sig)\n",
    "        \n",
    "    # Convert to decibels\n",
    "    spec = transforms.AmplitudeToDB(top_db=top_db)(spec)\n",
    "    \n",
    "    return (spec)\n",
    "  # ----------------------------\n",
    "  # Generate MFCC\n",
    "  # ----------------------------\n",
    "  @staticmethod\n",
    "  def mfcc(aud, n_mels=128, n_mfcc=20,n_fft=2048, hop_len =512):\n",
    "    sig, sr = aud\n",
    "    \n",
    "    spec = transforms.MFCC(sr, n_mfcc, melkwargs={'n_fft': n_fft, 'n_mels': n_mels, 'hop_length': hop_len, 'mel_scale': 'htk'})(sig)\n",
    "    \n",
    "    return spec\n",
    "  \n",
    "  # Spectrogram Augmentation \n",
    "  \n",
    "  # ----------------------------\n",
    "  # Augment the Spectrogram by masking out some sections of it in both the frequency\n",
    "  # dimension (ie. horizontal bars) and the time dimension (vertical bars) to prevent\n",
    "  # overfitting and to help the model generalise better. The masked sections are\n",
    "  # replaced with the mean value.\n",
    "  # ----------------------------\n",
    "  @staticmethod\n",
    "  def spectro_augment(spec, max_mask_pct=0.1, n_freq_masks=1, n_time_masks=1):\n",
    "    _, n_mels, n_steps = spec.shape\n",
    "    mask_value = spec.mean()\n",
    "    aug_spec = spec\n",
    "    \n",
    "    freq_mask_param = max_mask_pct * n_mels\n",
    "    for _ in range(n_freq_masks):\n",
    "      aug_spec = transforms.FrequencyMasking(freq_mask_param)(aug_spec, mask_value)\n",
    "\n",
    "    time_mask_param = max_mask_pct * n_steps\n",
    "    for _ in range(n_time_masks):\n",
    "      aug_spec = transforms.TimeMasking(time_mask_param)(aug_spec, mask_value)\n",
    "    return aug_spec\n",
    "  \n",
    "  #@staticmethod\n",
    "  # suggest rate btw [0.8, 1.2]\n",
    " # def time_stretch(spec, rate=0.8,hop_len =512, n_freq=128):\n",
    "    \n",
    "  #  stretch = torchaudio.transforms.TimeStretch(hop_length =hop_len, n_freq = n_freq, fixed_rate = rate)\n",
    "  #  streched = stretch(spec, 1.2)\n",
    "  #  return streched\n",
    "# one_hot_encoding\n",
    "def to_one_hot(k, classes_num):\n",
    "    target = np.zeros(classes_num)\n",
    "    target[k] = 1\n",
    "    return target\n",
    "\n",
    "# csv\n",
    "def data_to_frame(data_dir='./dataset/train', min_files=5, one_hot=False):\n",
    "    data_path =[]\n",
    "    data_label = []\n",
    "    encoded_label = {}\n",
    "    total_len = len(os.listdir(data_dir))\n",
    "    \n",
    "    k=0\n",
    "    \n",
    "    for dirname, _, filenames in os.walk(data_dir):\n",
    "        if str(dirname) == './dataset/train':\n",
    "            pass\n",
    "        else:\n",
    "            label = dirname.split('/')[-1]\n",
    "            if one_hot:\n",
    "                encoded_label[label] = to_one_hot(k,total_len)\n",
    "            else:\n",
    "                encoded_label[label] = k\n",
    "            k+=1\n",
    "        \n",
    "            if len(filenames) < min_files:\n",
    "                a = len(filenames)\n",
    "                while a != min_files:\n",
    "                    random_file = filenames[np.random.randint(a)]\n",
    "                    filenames.append(random_file)\n",
    "                    a+=1\n",
    "            for filename in filenames:\n",
    "                data_label.append(label)\n",
    "                data_path.append(os.path.join(dirname,filename))\n",
    "\n",
    "# encoded label 어떻게 처릴할지 생각해야함.\n",
    "# validation 처리\n",
    "# label은 마지막에 처리\n",
    "    df = pd.DataFrame({'path' : data_path, 'class' : data_label })\n",
    "    return df, encoded_label\n",
    "from torch.utils.data import DataLoader, Dataset, random_split\n",
    "import torchaudio\n",
    "\n",
    "# ----------------------------\n",
    "# Sound Dataset\n",
    "# ----------------------------\n",
    "class voiceDS(Dataset):\n",
    "  def __init__(self, df_x, df_y = None, encoded_label = None, channel= 3, transform = None, train=False, test_path=False):\n",
    "    \n",
    "    self.df_x = df_x\n",
    "    self.df_y = df_y\n",
    "    self.train = train\n",
    "    self.test_path = test_path\n",
    "    self.encoded_label = encoded_label\n",
    "    # transform\n",
    "    self.transform = transform\n",
    "    # hyperparameters\n",
    "    self.duration = 4000\n",
    "    self.sr = 44100\n",
    "    self.channel = channel\n",
    "        \n",
    "  # ----------------------------\n",
    "  # Number of items in dataset\n",
    "  # ----------------------------\n",
    "  def __len__(self):\n",
    "    return len(self.df_x)    \n",
    "    \n",
    "  # ----------------------------\n",
    "  # Get i'th item in dataset\n",
    "  # ----------------------------\n",
    "  def __getitem__(self, idx):\n",
    "    # Absolute file path of the audio file - concatenate the audio directory with\n",
    "    # the relative path\n",
    "   \n",
    "    # Get the Class ID\n",
    "    if self.test_path:\n",
    "      audio_file = self.df_x.loc[idx]\n",
    "      audio_file = self.test_path + '/' + audio_file\n",
    "  \n",
    "  \n",
    "    \n",
    "    else:\n",
    "      audio_file = self.df_x.loc[idx, 'path']\n",
    "      class_id = self.df_y.loc[idx, 'class']\n",
    "      class_id = self.encoded_label[class_id]\n",
    "      label = torch.LongTensor(torch.Tensor([class_id]).to(torch.int64)).squeeze()\n",
    "    \n",
    "\n",
    "   # class_id =  [list(class_id).index(1)]\n",
    "   # class_id =  torch.FloatTensor(class_id).squeeze().long()\n",
    "\n",
    "    # open the file\n",
    "    aud = AudioUtil.open(audio_file)\n",
    "    # preprocessing: resample, rechannel, fix time\n",
    "    reaud = AudioUtil.resample(aud, self.sr)\n",
    "    rechan = AudioUtil.rechannel(reaud, self.channel) \n",
    "    dur_aud = AudioUtil.time_sample(rechan, self.duration)\n",
    "    # Convert mel spectrogram -> (num_channels, Mel freq_bands, time_steps) -> later needs to match power of 2.\n",
    "    sgram = AudioUtil.spectro_gram(dur_aud, n_mels=64, n_fft=1024, hop_len=None)\n",
    "    if self.train:\n",
    "        pass\n",
    "    else:\n",
    "        pass\n",
    "    # raw augmentation -> later\n",
    "    # aug = AudioUtil.noise(aud,0.001)\n",
    "    # Mel augmentation\n",
    "        #sgram = AudioUtil.spectro_augment(sgram, max_mask_pct=0.1, n_freq_masks=2, n_time_masks=2)\n",
    "    if self.transform:\n",
    "        sgram = self.transform(sgram)\n",
    "    if self.test_path:\n",
    "      return sgram\n",
    "    else:\n",
    "      return sgram, label\n",
    "\n"
   ]
  },
  {
   "cell_type": "code",
   "execution_count": 3,
   "id": "0685854b",
   "metadata": {},
   "outputs": [],
   "source": [
    "from tqdm import tqdm\n",
    "import torch.nn.functional as F\n",
    "from torch.nn import init\n",
    "import torch.nn as nn\n",
    "import timm\n",
    "import pickle\n",
    "import torch.nn.functional as F\n",
    "from torch.nn import init\n",
    "import torch.nn as nn\n",
    "\n",
    "\n",
    "def training(model, train_dl, val_dl, num_epochs, model_name, encoded_label):\n",
    "  # Loss Function, Optimizer and Scheduler\n",
    "  criterion = nn.CrossEntropyLoss().to(device)\n",
    "  optimizer = torch.optim.Adam(model.parameters(),lr=0.001)\n",
    "  T_max = len(train_dl)*num_epochs # maximum number of iterations\n",
    "  scheduler = torch.optim.lr_scheduler.CosineAnnealingLR(optimizer, T_max=T_max, eta_min=0)\n",
    "  \n",
    "  best_acc = 0\n",
    "  best_epoch = 0\n",
    "  for epoch in range(num_epochs):\n",
    "    model.train()\n",
    "    acc = 0\n",
    "    running_loss = 0.0\n",
    "    correct_prediction = 0\n",
    "    total_prediction = 0\n",
    "    avg_loss = 0\n",
    "\n",
    "    val_acc = 0\n",
    "    running_val_loss = 0.0\n",
    "    correct_val_prediction = 0\n",
    "    total_val_prediction = 0\n",
    "    avg_val_loss = 0\n",
    "    \n",
    "    # Repeat for each batch in the training set\n",
    "    for i, data in enumerate(tqdm(train_dl)):\n",
    "        # Get the input features and target labels, and put them on the GPU\n",
    "        inputs, labels = data[0].to(device), data[1].to(device)\n",
    "        # Normalize the inputs\n",
    "      #  inputs_m, inputs_s = inputs.mean(), inputs.std()\n",
    "      #  inputs = (inputs - inputs_m) / inputs_s\n",
    "\n",
    "        # Zero the parameter gradients\n",
    "        optimizer.zero_grad()\n",
    "\n",
    "        # forward + backward + optimize\n",
    "        outputs = model(inputs)\n",
    "\n",
    "        loss = criterion(outputs, labels)\n",
    "        loss.backward()\n",
    "        optimizer.step()\n",
    "        scheduler.step()\n",
    "        # Keep stats for Loss and Accuracy\n",
    "        running_loss += loss.item()\n",
    "\n",
    "        # Get the predicted class with the highest score\n",
    "        _, prediction = torch.max(outputs,1)\n",
    "        # Count of predictions that matched the target label\n",
    "        correct_prediction += (prediction == labels).sum().item()\n",
    "        total_prediction += prediction.shape[0]\n",
    "    # Print stats at the end of the epoch\n",
    "    num_batches = len(train_dl)\n",
    "    avg_loss = running_loss / num_batches\n",
    "    acc = correct_prediction/total_prediction\n",
    "    print(f'Epoch: {epoch}, Loss: {avg_loss:.2f}, Accuracy: {acc:.2f}')\n",
    "    \n",
    "    model.eval()\n",
    "    with torch.no_grad():\n",
    "        for data in tqdm(val_dl):\n",
    "            inputs, labels = data[0].to(device), data[1].to(device)\n",
    "\n",
    "            outputs = model(inputs)\n",
    "            loss = criterion(outputs, labels)\n",
    "            running_val_loss += loss.item()\n",
    "\n",
    "            _, prediction = torch.max(outputs, 1)\n",
    "\n",
    "            correct_val_prediction += (prediction == labels).sum().item()\n",
    "            total_val_prediction += prediction.shape[0]\n",
    "    num_val_batches = len(val_dl)\n",
    "    avg_val_loss = running_val_loss / num_val_batches\n",
    "    val_acc = correct_val_prediction/total_val_prediction\n",
    "    print(f'Epoch: {epoch}, val_Loss: {avg_val_loss:.2f}, val_Accuracy: {val_acc:.2f}')\n",
    "    if val_acc > best_acc:\n",
    "      best_acc = val_acc\n",
    "      best_epoch = epoch\n",
    "      if not os.path.exists('./checkpoints/{}'.format(model_name)):\n",
    "        os.mkdir('./checkpoints/{}'.format(model_name))\n",
    "      torch.save(model,'./checkpoints/{}/best_epoch_{}.pth'.format(model_name,epoch))\n",
    "      print(f'Epoch: {epoch}, best_Accuracy: {best_acc:.2f} saved!')\n",
    "\n",
    "  with open('./checkpoints/{}/labels.pickle'.format(model_name),'wb') as fw:\n",
    "    pickle.dump(encoded_label, fw)\n",
    "    print('Labels saved!')\n",
    "  print('Finished Training')\n",
    "  return best_acc, best_epoch\n",
    "# inference/ unknown 처리 \n",
    "\n",
    "def soft_thresh(total_outputs,threshold= 2926):\n",
    "    \n",
    "    sf = nn.Softmax(dim=1)\n",
    "    logits =sf(total_outputs)\n",
    "    values, prediction = torch.max(logits, 1)\n",
    "    sorted_values = torch.sort(values)[0]\n",
    "\n",
    "    threshold_logit = torch.sort(values)[0][threshold]\n",
    "    unknown = values < threshold_logit\n",
    "    unknown_indices = unknown.nonzero().squeeze()\n",
    "    #  alter prediction \"unknown\" to 4000\n",
    "    prediction[unknown_indices] = torch.Tensor([4000]*len(unknown_indices)).type(torch.int64).to(device)\n",
    "        \n",
    "    return prediction\n",
    "\n",
    "def inference(model_name, check_point_dir, save_path):\n",
    "    with open('./checkpoints/{}/labels.pickle'.format(model_name),'rb') as fr:\n",
    "        encoded_label = pickle.load(fr)\n",
    "        encoded_label['unknown'] = 4000\n",
    "    key_values = encoded_label.items()\n",
    "    new_encoded_label = {str(value): str(key) for key, value in key_values}\n",
    "    # load model\n",
    "\n",
    "    model = torch.load(check_point_dir, map_location=device)\n",
    "    model.eval()\n",
    "    \n",
    "    total_outputs = torch.empty(1,3182).to(device)\n",
    "    with torch.no_grad():\n",
    "        for data in tqdm(test_dl):\n",
    "            inputs = data.to(device)\n",
    "            outputs = model(inputs)      \n",
    "            total_outputs = torch.cat((total_outputs, outputs))\n",
    "    \n",
    "        #    _, prediction = torch.max(outputs, 1)\n",
    "        #    prediction.detach().cpu().numpy().squeeze().tolist()\n",
    "        #    predictions+=prediction\n",
    "    total_outputs = total_outputs[1:,:]\n",
    "    prediction = soft_thresh(total_outputs)  \n",
    "    predictions = prediction.detach().cpu().numpy().squeeze().tolist()\n",
    "    voice_id = []\n",
    "\n",
    "    for i in predictions:\n",
    "        voice_id.append(new_encoded_label[str(i)])\n",
    "    # to csv\n",
    "    voice_results = pd.DataFrame({'voice_id': voice_id})\n",
    "    sample_submission['voice_id'] = voice_results\n",
    "    sample_submission.to_csv(save_path+'/result.csv',header=True, index=False)\n",
    "\n"
   ]
  },
  {
   "cell_type": "code",
   "execution_count": 13,
   "id": "2da6768c",
   "metadata": {},
   "outputs": [],
   "source": [
    "def padding(array, xx, yy):\n",
    "    \"\"\"\n",
    "    :param array: numpy array\n",
    "    :param xx: desired height\n",
    "    :param yy: desirex width\n",
    "    :return: padded array\n",
    "    \"\"\"\n",
    "    h = array.shape[0]\n",
    "    w = array.shape[1]\n",
    "    a = max((xx - h) // 2,0)\n",
    "    aa = max(0,xx - a - h)\n",
    "    b = max(0,(yy - w) // 2)\n",
    "    bb = max(yy - b - w,0)\n",
    "    return np.pad(array, pad_width=((a, aa), (b, bb)), mode='constant')"
   ]
  },
  {
   "cell_type": "code",
   "execution_count": 11,
   "id": "996813f5",
   "metadata": {},
   "outputs": [],
   "source": [
    "voice_sample = 'ma9T1o3XBa_0.wav'\n",
    "\n",
    "samples, sample_rate = AudioUtil.open(voice_sample)\n"
   ]
  },
  {
   "cell_type": "code",
   "execution_count": 12,
   "id": "546877e4",
   "metadata": {},
   "outputs": [],
   "source": [
    "\n",
    "n_fft = 1024\n",
    "win_length = None\n",
    "hop_length = 512\n",
    "n_mels = 128\n",
    "\n",
    "mel_spectrogram = transforms.MelSpectrogram(\n",
    "    sample_rate=sample_rate,\n",
    "    n_fft=n_fft,\n",
    "    win_length=win_length,\n",
    "    hop_length=hop_length,\n",
    "    center=True,\n",
    "    pad_mode=\"reflect\",\n",
    "    power=2.0,\n",
    "    norm='slaney',\n",
    "    onesided=True,\n",
    "    n_mels=n_mels,\n",
    "    mel_scale=\"htk\",\n",
    ")"
   ]
  },
  {
   "cell_type": "code",
   "execution_count": 13,
   "id": "b05d2921",
   "metadata": {},
   "outputs": [
    {
     "ename": "AttributeError",
     "evalue": "'str' object has no attribute 'size'",
     "output_type": "error",
     "traceback": [
      "\u001b[0;31m---------------------------------------------------------------------------\u001b[0m",
      "\u001b[0;31mAttributeError\u001b[0m                            Traceback (most recent call last)",
      "Input \u001b[0;32mIn [13]\u001b[0m, in \u001b[0;36m<cell line: 1>\u001b[0;34m()\u001b[0m\n\u001b[0;32m----> 1\u001b[0m a \u001b[38;5;241m=\u001b[39m \u001b[43mmel_spectrogram\u001b[49m\u001b[43m(\u001b[49m\u001b[43mvoice_sample\u001b[49m\u001b[43m)\u001b[49m\n",
      "File \u001b[0;32m~/Desktop/Python/competition/voice/lib/python3.9/site-packages/torch/nn/modules/module.py:1110\u001b[0m, in \u001b[0;36mModule._call_impl\u001b[0;34m(self, *input, **kwargs)\u001b[0m\n\u001b[1;32m   1106\u001b[0m \u001b[38;5;66;03m# If we don't have any hooks, we want to skip the rest of the logic in\u001b[39;00m\n\u001b[1;32m   1107\u001b[0m \u001b[38;5;66;03m# this function, and just call forward.\u001b[39;00m\n\u001b[1;32m   1108\u001b[0m \u001b[38;5;28;01mif\u001b[39;00m \u001b[38;5;129;01mnot\u001b[39;00m (\u001b[38;5;28mself\u001b[39m\u001b[38;5;241m.\u001b[39m_backward_hooks \u001b[38;5;129;01mor\u001b[39;00m \u001b[38;5;28mself\u001b[39m\u001b[38;5;241m.\u001b[39m_forward_hooks \u001b[38;5;129;01mor\u001b[39;00m \u001b[38;5;28mself\u001b[39m\u001b[38;5;241m.\u001b[39m_forward_pre_hooks \u001b[38;5;129;01mor\u001b[39;00m _global_backward_hooks\n\u001b[1;32m   1109\u001b[0m         \u001b[38;5;129;01mor\u001b[39;00m _global_forward_hooks \u001b[38;5;129;01mor\u001b[39;00m _global_forward_pre_hooks):\n\u001b[0;32m-> 1110\u001b[0m     \u001b[38;5;28;01mreturn\u001b[39;00m \u001b[43mforward_call\u001b[49m\u001b[43m(\u001b[49m\u001b[38;5;241;43m*\u001b[39;49m\u001b[38;5;28;43minput\u001b[39;49m\u001b[43m,\u001b[49m\u001b[43m \u001b[49m\u001b[38;5;241;43m*\u001b[39;49m\u001b[38;5;241;43m*\u001b[39;49m\u001b[43mkwargs\u001b[49m\u001b[43m)\u001b[49m\n\u001b[1;32m   1111\u001b[0m \u001b[38;5;66;03m# Do not call functions when jit is used\u001b[39;00m\n\u001b[1;32m   1112\u001b[0m full_backward_hooks, non_full_backward_hooks \u001b[38;5;241m=\u001b[39m [], []\n",
      "File \u001b[0;32m~/Desktop/Python/competition/voice/lib/python3.9/site-packages/torchaudio/transforms.py:614\u001b[0m, in \u001b[0;36mMelSpectrogram.forward\u001b[0;34m(self, waveform)\u001b[0m\n\u001b[1;32m    606\u001b[0m \u001b[38;5;28;01mdef\u001b[39;00m \u001b[38;5;21mforward\u001b[39m(\u001b[38;5;28mself\u001b[39m, waveform: Tensor) \u001b[38;5;241m-\u001b[39m\u001b[38;5;241m>\u001b[39m Tensor:\n\u001b[1;32m    607\u001b[0m     \u001b[38;5;124mr\u001b[39m\u001b[38;5;124;03m\"\"\"\u001b[39;00m\n\u001b[1;32m    608\u001b[0m \u001b[38;5;124;03m    Args:\u001b[39;00m\n\u001b[1;32m    609\u001b[0m \u001b[38;5;124;03m        waveform (Tensor): Tensor of audio of dimension (..., time).\u001b[39;00m\n\u001b[0;32m   (...)\u001b[0m\n\u001b[1;32m    612\u001b[0m \u001b[38;5;124;03m        Tensor: Mel frequency spectrogram of size (..., ``n_mels``, time).\u001b[39;00m\n\u001b[1;32m    613\u001b[0m \u001b[38;5;124;03m    \"\"\"\u001b[39;00m\n\u001b[0;32m--> 614\u001b[0m     specgram \u001b[38;5;241m=\u001b[39m \u001b[38;5;28;43mself\u001b[39;49m\u001b[38;5;241;43m.\u001b[39;49m\u001b[43mspectrogram\u001b[49m\u001b[43m(\u001b[49m\u001b[43mwaveform\u001b[49m\u001b[43m)\u001b[49m\n\u001b[1;32m    615\u001b[0m     mel_specgram \u001b[38;5;241m=\u001b[39m \u001b[38;5;28mself\u001b[39m\u001b[38;5;241m.\u001b[39mmel_scale(specgram)\n\u001b[1;32m    616\u001b[0m     \u001b[38;5;28;01mreturn\u001b[39;00m mel_specgram\n",
      "File \u001b[0;32m~/Desktop/Python/competition/voice/lib/python3.9/site-packages/torch/nn/modules/module.py:1110\u001b[0m, in \u001b[0;36mModule._call_impl\u001b[0;34m(self, *input, **kwargs)\u001b[0m\n\u001b[1;32m   1106\u001b[0m \u001b[38;5;66;03m# If we don't have any hooks, we want to skip the rest of the logic in\u001b[39;00m\n\u001b[1;32m   1107\u001b[0m \u001b[38;5;66;03m# this function, and just call forward.\u001b[39;00m\n\u001b[1;32m   1108\u001b[0m \u001b[38;5;28;01mif\u001b[39;00m \u001b[38;5;129;01mnot\u001b[39;00m (\u001b[38;5;28mself\u001b[39m\u001b[38;5;241m.\u001b[39m_backward_hooks \u001b[38;5;129;01mor\u001b[39;00m \u001b[38;5;28mself\u001b[39m\u001b[38;5;241m.\u001b[39m_forward_hooks \u001b[38;5;129;01mor\u001b[39;00m \u001b[38;5;28mself\u001b[39m\u001b[38;5;241m.\u001b[39m_forward_pre_hooks \u001b[38;5;129;01mor\u001b[39;00m _global_backward_hooks\n\u001b[1;32m   1109\u001b[0m         \u001b[38;5;129;01mor\u001b[39;00m _global_forward_hooks \u001b[38;5;129;01mor\u001b[39;00m _global_forward_pre_hooks):\n\u001b[0;32m-> 1110\u001b[0m     \u001b[38;5;28;01mreturn\u001b[39;00m \u001b[43mforward_call\u001b[49m\u001b[43m(\u001b[49m\u001b[38;5;241;43m*\u001b[39;49m\u001b[38;5;28;43minput\u001b[39;49m\u001b[43m,\u001b[49m\u001b[43m \u001b[49m\u001b[38;5;241;43m*\u001b[39;49m\u001b[38;5;241;43m*\u001b[39;49m\u001b[43mkwargs\u001b[49m\u001b[43m)\u001b[49m\n\u001b[1;32m   1111\u001b[0m \u001b[38;5;66;03m# Do not call functions when jit is used\u001b[39;00m\n\u001b[1;32m   1112\u001b[0m full_backward_hooks, non_full_backward_hooks \u001b[38;5;241m=\u001b[39m [], []\n",
      "File \u001b[0;32m~/Desktop/Python/competition/voice/lib/python3.9/site-packages/torchaudio/transforms.py:124\u001b[0m, in \u001b[0;36mSpectrogram.forward\u001b[0;34m(self, waveform)\u001b[0m\n\u001b[1;32m    114\u001b[0m \u001b[38;5;28;01mdef\u001b[39;00m \u001b[38;5;21mforward\u001b[39m(\u001b[38;5;28mself\u001b[39m, waveform: Tensor) \u001b[38;5;241m-\u001b[39m\u001b[38;5;241m>\u001b[39m Tensor:\n\u001b[1;32m    115\u001b[0m     \u001b[38;5;124mr\u001b[39m\u001b[38;5;124;03m\"\"\"\u001b[39;00m\n\u001b[1;32m    116\u001b[0m \u001b[38;5;124;03m    Args:\u001b[39;00m\n\u001b[1;32m    117\u001b[0m \u001b[38;5;124;03m        waveform (Tensor): Tensor of audio of dimension (..., time).\u001b[39;00m\n\u001b[0;32m   (...)\u001b[0m\n\u001b[1;32m    122\u001b[0m \u001b[38;5;124;03m        Fourier bins, and time is the number of window hops (n_frame).\u001b[39;00m\n\u001b[1;32m    123\u001b[0m \u001b[38;5;124;03m    \"\"\"\u001b[39;00m\n\u001b[0;32m--> 124\u001b[0m     \u001b[38;5;28;01mreturn\u001b[39;00m \u001b[43mF\u001b[49m\u001b[38;5;241;43m.\u001b[39;49m\u001b[43mspectrogram\u001b[49m\u001b[43m(\u001b[49m\n\u001b[1;32m    125\u001b[0m \u001b[43m        \u001b[49m\u001b[43mwaveform\u001b[49m\u001b[43m,\u001b[49m\n\u001b[1;32m    126\u001b[0m \u001b[43m        \u001b[49m\u001b[38;5;28;43mself\u001b[39;49m\u001b[38;5;241;43m.\u001b[39;49m\u001b[43mpad\u001b[49m\u001b[43m,\u001b[49m\n\u001b[1;32m    127\u001b[0m \u001b[43m        \u001b[49m\u001b[38;5;28;43mself\u001b[39;49m\u001b[38;5;241;43m.\u001b[39;49m\u001b[43mwindow\u001b[49m\u001b[43m,\u001b[49m\n\u001b[1;32m    128\u001b[0m \u001b[43m        \u001b[49m\u001b[38;5;28;43mself\u001b[39;49m\u001b[38;5;241;43m.\u001b[39;49m\u001b[43mn_fft\u001b[49m\u001b[43m,\u001b[49m\n\u001b[1;32m    129\u001b[0m \u001b[43m        \u001b[49m\u001b[38;5;28;43mself\u001b[39;49m\u001b[38;5;241;43m.\u001b[39;49m\u001b[43mhop_length\u001b[49m\u001b[43m,\u001b[49m\n\u001b[1;32m    130\u001b[0m \u001b[43m        \u001b[49m\u001b[38;5;28;43mself\u001b[39;49m\u001b[38;5;241;43m.\u001b[39;49m\u001b[43mwin_length\u001b[49m\u001b[43m,\u001b[49m\n\u001b[1;32m    131\u001b[0m \u001b[43m        \u001b[49m\u001b[38;5;28;43mself\u001b[39;49m\u001b[38;5;241;43m.\u001b[39;49m\u001b[43mpower\u001b[49m\u001b[43m,\u001b[49m\n\u001b[1;32m    132\u001b[0m \u001b[43m        \u001b[49m\u001b[38;5;28;43mself\u001b[39;49m\u001b[38;5;241;43m.\u001b[39;49m\u001b[43mnormalized\u001b[49m\u001b[43m,\u001b[49m\n\u001b[1;32m    133\u001b[0m \u001b[43m        \u001b[49m\u001b[38;5;28;43mself\u001b[39;49m\u001b[38;5;241;43m.\u001b[39;49m\u001b[43mcenter\u001b[49m\u001b[43m,\u001b[49m\n\u001b[1;32m    134\u001b[0m \u001b[43m        \u001b[49m\u001b[38;5;28;43mself\u001b[39;49m\u001b[38;5;241;43m.\u001b[39;49m\u001b[43mpad_mode\u001b[49m\u001b[43m,\u001b[49m\n\u001b[1;32m    135\u001b[0m \u001b[43m        \u001b[49m\u001b[38;5;28;43mself\u001b[39;49m\u001b[38;5;241;43m.\u001b[39;49m\u001b[43monesided\u001b[49m\u001b[43m,\u001b[49m\n\u001b[1;32m    136\u001b[0m \u001b[43m    \u001b[49m\u001b[43m)\u001b[49m\n",
      "File \u001b[0;32m~/Desktop/Python/competition/voice/lib/python3.9/site-packages/torchaudio/functional/functional.py:98\u001b[0m, in \u001b[0;36mspectrogram\u001b[0;34m(waveform, pad, window, n_fft, hop_length, win_length, power, normalized, center, pad_mode, onesided, return_complex)\u001b[0m\n\u001b[1;32m     95\u001b[0m     waveform \u001b[38;5;241m=\u001b[39m torch\u001b[38;5;241m.\u001b[39mnn\u001b[38;5;241m.\u001b[39mfunctional\u001b[38;5;241m.\u001b[39mpad(waveform, (pad, pad), \u001b[38;5;124m\"\u001b[39m\u001b[38;5;124mconstant\u001b[39m\u001b[38;5;124m\"\u001b[39m)\n\u001b[1;32m     97\u001b[0m \u001b[38;5;66;03m# pack batch\u001b[39;00m\n\u001b[0;32m---> 98\u001b[0m shape \u001b[38;5;241m=\u001b[39m \u001b[43mwaveform\u001b[49m\u001b[38;5;241;43m.\u001b[39;49m\u001b[43msize\u001b[49m()\n\u001b[1;32m     99\u001b[0m waveform \u001b[38;5;241m=\u001b[39m waveform\u001b[38;5;241m.\u001b[39mreshape(\u001b[38;5;241m-\u001b[39m\u001b[38;5;241m1\u001b[39m, shape[\u001b[38;5;241m-\u001b[39m\u001b[38;5;241m1\u001b[39m])\n\u001b[1;32m    101\u001b[0m \u001b[38;5;66;03m# default values are consistent with librosa.core.spectrum._spectrogram\u001b[39;00m\n",
      "\u001b[0;31mAttributeError\u001b[0m: 'str' object has no attribute 'size'"
     ]
    }
   ],
   "source": [
    "a = mel_spectrogram(voice_sample)"
   ]
  },
  {
   "cell_type": "code",
   "execution_count": 57,
   "id": "0cf4b22f",
   "metadata": {},
   "outputs": [
    {
     "data": {
      "text/plain": [
       "<matplotlib.collections.QuadMesh at 0x7fa35737dc10>"
      ]
     },
     "execution_count": 57,
     "metadata": {},
     "output_type": "execute_result"
    },
    {
     "data": {
      "image/png": "[encoded data removed]",
      "text/plain": [
       "<Figure size 1008x360 with 1 Axes>"
      ]
     },
     "metadata": {},
     "output_type": "display_data"
    }
   ],
   "source": [
    "plt.figure(figsize=(14, 5))\n",
    "\n",
    "\n"
   ]
  },
  {
   "cell_type": "markdown",
   "id": "a21a678a",
   "metadata": {},
   "source": [
    "# Data Load"
   ]
  },
  {
   "cell_type": "code",
   "execution_count": 6,
   "id": "ba977244",
   "metadata": {},
   "outputs": [],
   "source": [
    "# csv_processing, stratified k folds\n",
    "\n",
    "\n",
    "train_data = data_to_frame(min_files=10, one_hot=False)\n",
    "\n",
    "#sample_submission = pd.read_csv('./sample_submission.csv')\n",
    "#test_audio = sample_submission['recording']\n",
    "\n",
    "df = train_data[0]\n",
    "encoded_label = train_data[1]\n",
    "#print(df.tail())\n",
    "#print(test_audio.head())\n",
    "\n",
    "skf = StratifiedKFold(n_splits=5, shuffle=True, random_state=1004)\n",
    "audio_path = df.drop('class',axis=1)\n",
    "label = df.drop('path',axis=1)\n",
    "k_folded_data = list(skf.split(audio_path, label)) # (train_index, test_index)\n",
    "\n",
    "\n",
    "# first fold k = 1, for training use loop\n",
    "train_index = k_folded_data[0][0]\n",
    "test_index = k_folded_data[0][1]\n",
    "# train, val dataframe\n",
    "train_x, val_x = audio_path.iloc[train_index].reset_index(), audio_path.iloc[test_index].reset_index()\n",
    "train_y, val_y = label.iloc[train_index].reset_index(), label.iloc[test_index].reset_index()\n",
    "\n",
    "### transform later change to albu or additional \n",
    "\n",
    "num_channels = 1\n",
    "\n",
    "if num_channels ==3:\n",
    "  mean = (0.485, 0.456, 0.406) # RGB\n",
    "  std = (0.229, 0.224, 0.225) # RGB\n",
    "elif num_channels ==1:\n",
    "  mean = 0.485\n",
    "  std = 0.229\n",
    "  \n",
    "torchvision_transform = ts.Compose([\n",
    "  ts.Normalize(mean,std)])\n",
    "# training    \n",
    "\n",
    "train_dataset = voiceDS(train_x, train_y, encoded_label, num_channels, transform = torchvision_transform, train=True)\n",
    "val_dataset = voiceDS(val_x, val_y, encoded_label, num_channels, transform = torchvision_transform)\n",
    "\n",
    "# testing\n",
    "#test_dataset= voiceDS(test_audio, num_channels, transform= torchvision_transform, test_path='./dataset/test')\n",
    "\n",
    "# Create training and validation data loaders\n",
    "train_dl = torch.utils.data.DataLoader(train_dataset, batch_size=16, shuffle=True, num_workers=8)\n",
    "val_dl = torch.utils.data.DataLoader(val_dataset, batch_size=16, shuffle=False, num_workers=8)\n",
    "\n",
    "#test_dl = torch.utils.data.DataLoader(test_dataset, batch_size=16, shuffle=False, num_workers=8, drop_last = False)\n"
   ]
  },
  {
   "cell_type": "markdown",
   "id": "0f8b1a3b",
   "metadata": {},
   "source": [
    "Training/ Inference"
   ]
  },
  {
   "cell_type": "code",
   "execution_count": 6,
   "id": "77f3a2f6",
   "metadata": {},
   "outputs": [
    {
     "name": "stderr",
     "output_type": "stream",
     "text": [
      "100%|██████████| 3755/3755 [10:03<00:00,  6.22it/s]\n"
     ]
    },
    {
     "name": "stdout",
     "output_type": "stream",
     "text": [
      "Epoch: 0, Loss: 6.55, Accuracy: 0.03\n"
     ]
    },
    {
     "name": "stderr",
     "output_type": "stream",
     "text": [
      "100%|██████████| 939/939 [01:37<00:00,  9.62it/s]\n"
     ]
    },
    {
     "name": "stdout",
     "output_type": "stream",
     "text": [
      "Epoch: 0, val_Loss: 4.57, val_Accuracy: 0.14\n",
      "Epoch: 0, best_Accuracy: 0.14 saved!\n"
     ]
    },
    {
     "name": "stderr",
     "output_type": "stream",
     "text": [
      "100%|██████████| 3755/3755 [09:42<00:00,  6.45it/s]\n"
     ]
    },
    {
     "name": "stdout",
     "output_type": "stream",
     "text": [
      "Epoch: 1, Loss: 3.44, Accuracy: 0.28\n"
     ]
    },
    {
     "name": "stderr",
     "output_type": "stream",
     "text": [
      "100%|██████████| 939/939 [01:16<00:00, 12.31it/s]\n"
     ]
    },
    {
     "name": "stdout",
     "output_type": "stream",
     "text": [
      "Epoch: 1, val_Loss: 2.64, val_Accuracy: 0.42\n",
      "Epoch: 1, best_Accuracy: 0.42 saved!\n"
     ]
    },
    {
     "name": "stderr",
     "output_type": "stream",
     "text": [
      "100%|██████████| 3755/3755 [09:46<00:00,  6.40it/s]\n"
     ]
    },
    {
     "name": "stdout",
     "output_type": "stream",
     "text": [
      "Epoch: 2, Loss: 1.93, Accuracy: 0.54\n"
     ]
    },
    {
     "name": "stderr",
     "output_type": "stream",
     "text": [
      "100%|██████████| 939/939 [01:22<00:00, 11.35it/s]\n"
     ]
    },
    {
     "name": "stdout",
     "output_type": "stream",
     "text": [
      "Epoch: 2, val_Loss: 2.35, val_Accuracy: 0.48\n",
      "Epoch: 2, best_Accuracy: 0.48 saved!\n"
     ]
    },
    {
     "name": "stderr",
     "output_type": "stream",
     "text": [
      "100%|██████████| 3755/3755 [09:48<00:00,  6.38it/s]\n"
     ]
    },
    {
     "name": "stdout",
     "output_type": "stream",
     "text": [
      "Epoch: 3, Loss: 1.18, Accuracy: 0.70\n"
     ]
    },
    {
     "name": "stderr",
     "output_type": "stream",
     "text": [
      "100%|██████████| 939/939 [01:17<00:00, 12.11it/s]\n"
     ]
    },
    {
     "name": "stdout",
     "output_type": "stream",
     "text": [
      "Epoch: 3, val_Loss: 1.60, val_Accuracy: 0.63\n",
      "Epoch: 3, best_Accuracy: 0.63 saved!\n"
     ]
    },
    {
     "name": "stderr",
     "output_type": "stream",
     "text": [
      "100%|██████████| 3755/3755 [09:41<00:00,  6.45it/s]\n"
     ]
    },
    {
     "name": "stdout",
     "output_type": "stream",
     "text": [
      "Epoch: 4, Loss: 0.67, Accuracy: 0.82\n"
     ]
    },
    {
     "name": "stderr",
     "output_type": "stream",
     "text": [
      "100%|██████████| 939/939 [01:16<00:00, 12.31it/s]\n"
     ]
    },
    {
     "name": "stdout",
     "output_type": "stream",
     "text": [
      "Epoch: 4, val_Loss: 1.69, val_Accuracy: 0.63\n",
      "Epoch: 4, best_Accuracy: 0.63 saved!\n"
     ]
    },
    {
     "name": "stderr",
     "output_type": "stream",
     "text": [
      "100%|██████████| 3755/3755 [09:48<00:00,  6.38it/s]\n"
     ]
    },
    {
     "name": "stdout",
     "output_type": "stream",
     "text": [
      "Epoch: 5, Loss: 0.42, Accuracy: 0.88\n"
     ]
    },
    {
     "name": "stderr",
     "output_type": "stream",
     "text": [
      "100%|██████████| 939/939 [01:19<00:00, 11.87it/s]\n"
     ]
    },
    {
     "name": "stdout",
     "output_type": "stream",
     "text": [
      "Epoch: 5, val_Loss: 1.49, val_Accuracy: 0.67\n",
      "Epoch: 5, best_Accuracy: 0.67 saved!\n"
     ]
    },
    {
     "name": "stderr",
     "output_type": "stream",
     "text": [
      "100%|█████████▉| 3744/3755 [10:55<00:01,  6.23it/s]"
     ]
    }
   ],
   "source": [
    "# try out 1 channel and compare the result with 3 channel\n",
    "\n",
    "\n",
    "model_name ='resnet101'\n",
    "model=timm.create_model(model_name, pretrained=True, num_classes=3182, in_chans = num_channels)\n",
    "\n",
    "#model = torch.nn.DataParallel(model, device_ids=list(range(3)))\n",
    "model.to(device)\n",
    "\n",
    "start = time.time()\n",
    "best_acc, best_epoch = training(model, train_dl, val_dl, 18, model_name, encoded_label)\n",
    "end = time.time()\n",
    "print(end-start)\n",
    "\n",
    "print('training_completed: acc:{} epoch:{}'.format(best_acc, best_epoch))\n",
    "\n",
    "save_path = '/home/jinyong/competition/checkpoints/{}/'.format(model_name)\n",
    "check_point_dir = '/home/jinyong/competition/checkpoints/{}/best_epoch_{}.pth'.format(model_name, best_epoch)\n",
    "\n",
    "inference(model_name, check_point_dir, save_path)"
   ]
  },
  {
   "cell_type": "code",
   "execution_count": 12,
   "id": "5025a640",
   "metadata": {},
   "outputs": [
    {
     "data": {
      "text/plain": [
       "592"
      ]
     },
     "execution_count": 12,
     "metadata": {},
     "output_type": "execute_result"
    }
   ],
   "source": [
    "timm.list_models(pretrained=True)"
   ]
  },
  {
   "cell_type": "markdown",
   "id": "aa6bffa6",
   "metadata": {},
   "source": [
    "Inference"
   ]
  }
 ],
 "metadata": {
  "interpreter": {
   "hash": "5c1a2417b3382b6c3011a6da6663938c8c7921fe9d89fc83714538d6fde27e8d"
  },
  "kernelspec": {
   "display_name": "Voice Compeition",
   "language": "python",
   "name": "voice"
  },
  "language_info": {
   "codemirror_mode": {
    "name": "ipython",
    "version": 3
   },
   "file_extension": ".py",
   "mimetype": "text/x-python",
   "name": "python",
   "nbconvert_exporter": "python",
   "pygments_lexer": "ipython3",
   "version": "3.9.12"
  }
 },
 "nbformat": 4,
 "nbformat_minor": 5
}
